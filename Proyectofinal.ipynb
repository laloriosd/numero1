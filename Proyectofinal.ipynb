{
  "nbformat": 4,
  "nbformat_minor": 0,
  "metadata": {
    "colab": {
      "provenance": [],
      "authorship_tag": "ABX9TyMYUThIPneu3jXxz066kDfa",
      "include_colab_link": true
    },
    "kernelspec": {
      "name": "python3",
      "display_name": "Python 3"
    },
    "language_info": {
      "name": "python"
    }
  },
  "cells": [
    {
      "cell_type": "markdown",
      "metadata": {
        "id": "view-in-github",
        "colab_type": "text"
      },
      "source": [
        "<a href=\"https://colab.research.google.com/github/laloriosd/numero1/blob/main/Proyectofinal.ipynb\" target=\"_parent\"><img src=\"https://colab.research.google.com/assets/colab-badge.svg\" alt=\"Open In Colab\"/></a>"
      ]
    },
    {
      "cell_type": "markdown",
      "source": [
        "#Análisis sobre las estadísticas en partidos de la National Basqueball League (NBA) de LeBron James desde el 2 de diciembre del 2023 hasta el 30 de enero del 2024"
      ],
      "metadata": {
        "id": "gddByCbWH0UH"
      }
    },
    {
      "cell_type": "code",
      "execution_count": 1,
      "metadata": {
        "colab": {
          "base_uri": "https://localhost:8080/",
          "height": 865
        },
        "id": "-y7fF8KP_z41",
        "outputId": "80428d28-f78f-4120-b8e7-da7247c37227"
      },
      "outputs": [
        {
          "output_type": "execute_result",
          "data": {
            "text/plain": [
              "    Fecha RIVAL  REB  AST  BLOQ  PTS Local\n",
              "0    30/1     @    9    8     1   20    no\n",
              "1    29/1     @    6   10     1   23    no\n",
              "2    27/1     @   20   12     0   36    no\n",
              "3    25/1    vs    4   12     0   25    si\n",
              "4    21/1    vs    5    5     0   28    si\n",
              "5    19/1    vs   11    5     0   24    si\n",
              "6    17/1    vs    8    8     0   25    si\n",
              "7    15/1    vs    7    6     0   25    si\n",
              "8    11/1    vs    5    9     0   10    si\n",
              "9     9/1    vs    5   12     1   22    si\n",
              "10    7/1    vs    8    7     0   25    si\n",
              "11    5/1    vs    5    7     0   32    si\n",
              "12    3/1    vs    6    9     0   12    si\n",
              "13  31/12     @    5    8     1   34   no \n",
              "14  30/12     @    3    6     1   26    no\n",
              "15  28/12    vs    4   11     0   17    si\n",
              "16  25/12    vs    9    8     0   16    si\n",
              "17  23/12     @    7    7     2   40    no\n",
              "18  20/12     @   10    9     2   25    no\n",
              "19  18/12    vs   11   11     0   25    si\n",
              "20  15/12     @    7   14     0   23    no\n",
              "21  12/12     @    8    9     1   33    no\n",
              "22   9/12    vs   11    4     0   24    si\n",
              "23   7/12    vs    5    8     0   30    si\n",
              "24   5/12    vs    8   11     0   31    si\n",
              "25   2/12    vs    4    7     1   16    si"
            ],
            "text/html": [
              "\n",
              "  <div id=\"df-2a4fd3fd-1eaa-4731-95ce-be81b541f113\" class=\"colab-df-container\">\n",
              "    <div>\n",
              "<style scoped>\n",
              "    .dataframe tbody tr th:only-of-type {\n",
              "        vertical-align: middle;\n",
              "    }\n",
              "\n",
              "    .dataframe tbody tr th {\n",
              "        vertical-align: top;\n",
              "    }\n",
              "\n",
              "    .dataframe thead th {\n",
              "        text-align: right;\n",
              "    }\n",
              "</style>\n",
              "<table border=\"1\" class=\"dataframe\">\n",
              "  <thead>\n",
              "    <tr style=\"text-align: right;\">\n",
              "      <th></th>\n",
              "      <th>Fecha</th>\n",
              "      <th>RIVAL</th>\n",
              "      <th>REB</th>\n",
              "      <th>AST</th>\n",
              "      <th>BLOQ</th>\n",
              "      <th>PTS</th>\n",
              "      <th>Local</th>\n",
              "    </tr>\n",
              "  </thead>\n",
              "  <tbody>\n",
              "    <tr>\n",
              "      <th>0</th>\n",
              "      <td>30/1</td>\n",
              "      <td>@</td>\n",
              "      <td>9</td>\n",
              "      <td>8</td>\n",
              "      <td>1</td>\n",
              "      <td>20</td>\n",
              "      <td>no</td>\n",
              "    </tr>\n",
              "    <tr>\n",
              "      <th>1</th>\n",
              "      <td>29/1</td>\n",
              "      <td>@</td>\n",
              "      <td>6</td>\n",
              "      <td>10</td>\n",
              "      <td>1</td>\n",
              "      <td>23</td>\n",
              "      <td>no</td>\n",
              "    </tr>\n",
              "    <tr>\n",
              "      <th>2</th>\n",
              "      <td>27/1</td>\n",
              "      <td>@</td>\n",
              "      <td>20</td>\n",
              "      <td>12</td>\n",
              "      <td>0</td>\n",
              "      <td>36</td>\n",
              "      <td>no</td>\n",
              "    </tr>\n",
              "    <tr>\n",
              "      <th>3</th>\n",
              "      <td>25/1</td>\n",
              "      <td>vs</td>\n",
              "      <td>4</td>\n",
              "      <td>12</td>\n",
              "      <td>0</td>\n",
              "      <td>25</td>\n",
              "      <td>si</td>\n",
              "    </tr>\n",
              "    <tr>\n",
              "      <th>4</th>\n",
              "      <td>21/1</td>\n",
              "      <td>vs</td>\n",
              "      <td>5</td>\n",
              "      <td>5</td>\n",
              "      <td>0</td>\n",
              "      <td>28</td>\n",
              "      <td>si</td>\n",
              "    </tr>\n",
              "    <tr>\n",
              "      <th>5</th>\n",
              "      <td>19/1</td>\n",
              "      <td>vs</td>\n",
              "      <td>11</td>\n",
              "      <td>5</td>\n",
              "      <td>0</td>\n",
              "      <td>24</td>\n",
              "      <td>si</td>\n",
              "    </tr>\n",
              "    <tr>\n",
              "      <th>6</th>\n",
              "      <td>17/1</td>\n",
              "      <td>vs</td>\n",
              "      <td>8</td>\n",
              "      <td>8</td>\n",
              "      <td>0</td>\n",
              "      <td>25</td>\n",
              "      <td>si</td>\n",
              "    </tr>\n",
              "    <tr>\n",
              "      <th>7</th>\n",
              "      <td>15/1</td>\n",
              "      <td>vs</td>\n",
              "      <td>7</td>\n",
              "      <td>6</td>\n",
              "      <td>0</td>\n",
              "      <td>25</td>\n",
              "      <td>si</td>\n",
              "    </tr>\n",
              "    <tr>\n",
              "      <th>8</th>\n",
              "      <td>11/1</td>\n",
              "      <td>vs</td>\n",
              "      <td>5</td>\n",
              "      <td>9</td>\n",
              "      <td>0</td>\n",
              "      <td>10</td>\n",
              "      <td>si</td>\n",
              "    </tr>\n",
              "    <tr>\n",
              "      <th>9</th>\n",
              "      <td>9/1</td>\n",
              "      <td>vs</td>\n",
              "      <td>5</td>\n",
              "      <td>12</td>\n",
              "      <td>1</td>\n",
              "      <td>22</td>\n",
              "      <td>si</td>\n",
              "    </tr>\n",
              "    <tr>\n",
              "      <th>10</th>\n",
              "      <td>7/1</td>\n",
              "      <td>vs</td>\n",
              "      <td>8</td>\n",
              "      <td>7</td>\n",
              "      <td>0</td>\n",
              "      <td>25</td>\n",
              "      <td>si</td>\n",
              "    </tr>\n",
              "    <tr>\n",
              "      <th>11</th>\n",
              "      <td>5/1</td>\n",
              "      <td>vs</td>\n",
              "      <td>5</td>\n",
              "      <td>7</td>\n",
              "      <td>0</td>\n",
              "      <td>32</td>\n",
              "      <td>si</td>\n",
              "    </tr>\n",
              "    <tr>\n",
              "      <th>12</th>\n",
              "      <td>3/1</td>\n",
              "      <td>vs</td>\n",
              "      <td>6</td>\n",
              "      <td>9</td>\n",
              "      <td>0</td>\n",
              "      <td>12</td>\n",
              "      <td>si</td>\n",
              "    </tr>\n",
              "    <tr>\n",
              "      <th>13</th>\n",
              "      <td>31/12</td>\n",
              "      <td>@</td>\n",
              "      <td>5</td>\n",
              "      <td>8</td>\n",
              "      <td>1</td>\n",
              "      <td>34</td>\n",
              "      <td>no</td>\n",
              "    </tr>\n",
              "    <tr>\n",
              "      <th>14</th>\n",
              "      <td>30/12</td>\n",
              "      <td>@</td>\n",
              "      <td>3</td>\n",
              "      <td>6</td>\n",
              "      <td>1</td>\n",
              "      <td>26</td>\n",
              "      <td>no</td>\n",
              "    </tr>\n",
              "    <tr>\n",
              "      <th>15</th>\n",
              "      <td>28/12</td>\n",
              "      <td>vs</td>\n",
              "      <td>4</td>\n",
              "      <td>11</td>\n",
              "      <td>0</td>\n",
              "      <td>17</td>\n",
              "      <td>si</td>\n",
              "    </tr>\n",
              "    <tr>\n",
              "      <th>16</th>\n",
              "      <td>25/12</td>\n",
              "      <td>vs</td>\n",
              "      <td>9</td>\n",
              "      <td>8</td>\n",
              "      <td>0</td>\n",
              "      <td>16</td>\n",
              "      <td>si</td>\n",
              "    </tr>\n",
              "    <tr>\n",
              "      <th>17</th>\n",
              "      <td>23/12</td>\n",
              "      <td>@</td>\n",
              "      <td>7</td>\n",
              "      <td>7</td>\n",
              "      <td>2</td>\n",
              "      <td>40</td>\n",
              "      <td>no</td>\n",
              "    </tr>\n",
              "    <tr>\n",
              "      <th>18</th>\n",
              "      <td>20/12</td>\n",
              "      <td>@</td>\n",
              "      <td>10</td>\n",
              "      <td>9</td>\n",
              "      <td>2</td>\n",
              "      <td>25</td>\n",
              "      <td>no</td>\n",
              "    </tr>\n",
              "    <tr>\n",
              "      <th>19</th>\n",
              "      <td>18/12</td>\n",
              "      <td>vs</td>\n",
              "      <td>11</td>\n",
              "      <td>11</td>\n",
              "      <td>0</td>\n",
              "      <td>25</td>\n",
              "      <td>si</td>\n",
              "    </tr>\n",
              "    <tr>\n",
              "      <th>20</th>\n",
              "      <td>15/12</td>\n",
              "      <td>@</td>\n",
              "      <td>7</td>\n",
              "      <td>14</td>\n",
              "      <td>0</td>\n",
              "      <td>23</td>\n",
              "      <td>no</td>\n",
              "    </tr>\n",
              "    <tr>\n",
              "      <th>21</th>\n",
              "      <td>12/12</td>\n",
              "      <td>@</td>\n",
              "      <td>8</td>\n",
              "      <td>9</td>\n",
              "      <td>1</td>\n",
              "      <td>33</td>\n",
              "      <td>no</td>\n",
              "    </tr>\n",
              "    <tr>\n",
              "      <th>22</th>\n",
              "      <td>9/12</td>\n",
              "      <td>vs</td>\n",
              "      <td>11</td>\n",
              "      <td>4</td>\n",
              "      <td>0</td>\n",
              "      <td>24</td>\n",
              "      <td>si</td>\n",
              "    </tr>\n",
              "    <tr>\n",
              "      <th>23</th>\n",
              "      <td>7/12</td>\n",
              "      <td>vs</td>\n",
              "      <td>5</td>\n",
              "      <td>8</td>\n",
              "      <td>0</td>\n",
              "      <td>30</td>\n",
              "      <td>si</td>\n",
              "    </tr>\n",
              "    <tr>\n",
              "      <th>24</th>\n",
              "      <td>5/12</td>\n",
              "      <td>vs</td>\n",
              "      <td>8</td>\n",
              "      <td>11</td>\n",
              "      <td>0</td>\n",
              "      <td>31</td>\n",
              "      <td>si</td>\n",
              "    </tr>\n",
              "    <tr>\n",
              "      <th>25</th>\n",
              "      <td>2/12</td>\n",
              "      <td>vs</td>\n",
              "      <td>4</td>\n",
              "      <td>7</td>\n",
              "      <td>1</td>\n",
              "      <td>16</td>\n",
              "      <td>si</td>\n",
              "    </tr>\n",
              "  </tbody>\n",
              "</table>\n",
              "</div>\n",
              "    <div class=\"colab-df-buttons\">\n",
              "\n",
              "  <div class=\"colab-df-container\">\n",
              "    <button class=\"colab-df-convert\" onclick=\"convertToInteractive('df-2a4fd3fd-1eaa-4731-95ce-be81b541f113')\"\n",
              "            title=\"Convert this dataframe to an interactive table.\"\n",
              "            style=\"display:none;\">\n",
              "\n",
              "  <svg xmlns=\"http://www.w3.org/2000/svg\" height=\"24px\" viewBox=\"0 -960 960 960\">\n",
              "    <path d=\"M120-120v-720h720v720H120Zm60-500h600v-160H180v160Zm220 220h160v-160H400v160Zm0 220h160v-160H400v160ZM180-400h160v-160H180v160Zm440 0h160v-160H620v160ZM180-180h160v-160H180v160Zm440 0h160v-160H620v160Z\"/>\n",
              "  </svg>\n",
              "    </button>\n",
              "\n",
              "  <style>\n",
              "    .colab-df-container {\n",
              "      display:flex;\n",
              "      gap: 12px;\n",
              "    }\n",
              "\n",
              "    .colab-df-convert {\n",
              "      background-color: #E8F0FE;\n",
              "      border: none;\n",
              "      border-radius: 50%;\n",
              "      cursor: pointer;\n",
              "      display: none;\n",
              "      fill: #1967D2;\n",
              "      height: 32px;\n",
              "      padding: 0 0 0 0;\n",
              "      width: 32px;\n",
              "    }\n",
              "\n",
              "    .colab-df-convert:hover {\n",
              "      background-color: #E2EBFA;\n",
              "      box-shadow: 0px 1px 2px rgba(60, 64, 67, 0.3), 0px 1px 3px 1px rgba(60, 64, 67, 0.15);\n",
              "      fill: #174EA6;\n",
              "    }\n",
              "\n",
              "    .colab-df-buttons div {\n",
              "      margin-bottom: 4px;\n",
              "    }\n",
              "\n",
              "    [theme=dark] .colab-df-convert {\n",
              "      background-color: #3B4455;\n",
              "      fill: #D2E3FC;\n",
              "    }\n",
              "\n",
              "    [theme=dark] .colab-df-convert:hover {\n",
              "      background-color: #434B5C;\n",
              "      box-shadow: 0px 1px 3px 1px rgba(0, 0, 0, 0.15);\n",
              "      filter: drop-shadow(0px 1px 2px rgba(0, 0, 0, 0.3));\n",
              "      fill: #FFFFFF;\n",
              "    }\n",
              "  </style>\n",
              "\n",
              "    <script>\n",
              "      const buttonEl =\n",
              "        document.querySelector('#df-2a4fd3fd-1eaa-4731-95ce-be81b541f113 button.colab-df-convert');\n",
              "      buttonEl.style.display =\n",
              "        google.colab.kernel.accessAllowed ? 'block' : 'none';\n",
              "\n",
              "      async function convertToInteractive(key) {\n",
              "        const element = document.querySelector('#df-2a4fd3fd-1eaa-4731-95ce-be81b541f113');\n",
              "        const dataTable =\n",
              "          await google.colab.kernel.invokeFunction('convertToInteractive',\n",
              "                                                    [key], {});\n",
              "        if (!dataTable) return;\n",
              "\n",
              "        const docLinkHtml = 'Like what you see? Visit the ' +\n",
              "          '<a target=\"_blank\" href=https://colab.research.google.com/notebooks/data_table.ipynb>data table notebook</a>'\n",
              "          + ' to learn more about interactive tables.';\n",
              "        element.innerHTML = '';\n",
              "        dataTable['output_type'] = 'display_data';\n",
              "        await google.colab.output.renderOutput(dataTable, element);\n",
              "        const docLink = document.createElement('div');\n",
              "        docLink.innerHTML = docLinkHtml;\n",
              "        element.appendChild(docLink);\n",
              "      }\n",
              "    </script>\n",
              "  </div>\n",
              "\n",
              "\n",
              "<div id=\"df-bebc00c3-19d5-49c4-a420-5b9e0bfebc4a\">\n",
              "  <button class=\"colab-df-quickchart\" onclick=\"quickchart('df-bebc00c3-19d5-49c4-a420-5b9e0bfebc4a')\"\n",
              "            title=\"Suggest charts\"\n",
              "            style=\"display:none;\">\n",
              "\n",
              "<svg xmlns=\"http://www.w3.org/2000/svg\" height=\"24px\"viewBox=\"0 0 24 24\"\n",
              "     width=\"24px\">\n",
              "    <g>\n",
              "        <path d=\"M19 3H5c-1.1 0-2 .9-2 2v14c0 1.1.9 2 2 2h14c1.1 0 2-.9 2-2V5c0-1.1-.9-2-2-2zM9 17H7v-7h2v7zm4 0h-2V7h2v10zm4 0h-2v-4h2v4z\"/>\n",
              "    </g>\n",
              "</svg>\n",
              "  </button>\n",
              "\n",
              "<style>\n",
              "  .colab-df-quickchart {\n",
              "      --bg-color: #E8F0FE;\n",
              "      --fill-color: #1967D2;\n",
              "      --hover-bg-color: #E2EBFA;\n",
              "      --hover-fill-color: #174EA6;\n",
              "      --disabled-fill-color: #AAA;\n",
              "      --disabled-bg-color: #DDD;\n",
              "  }\n",
              "\n",
              "  [theme=dark] .colab-df-quickchart {\n",
              "      --bg-color: #3B4455;\n",
              "      --fill-color: #D2E3FC;\n",
              "      --hover-bg-color: #434B5C;\n",
              "      --hover-fill-color: #FFFFFF;\n",
              "      --disabled-bg-color: #3B4455;\n",
              "      --disabled-fill-color: #666;\n",
              "  }\n",
              "\n",
              "  .colab-df-quickchart {\n",
              "    background-color: var(--bg-color);\n",
              "    border: none;\n",
              "    border-radius: 50%;\n",
              "    cursor: pointer;\n",
              "    display: none;\n",
              "    fill: var(--fill-color);\n",
              "    height: 32px;\n",
              "    padding: 0;\n",
              "    width: 32px;\n",
              "  }\n",
              "\n",
              "  .colab-df-quickchart:hover {\n",
              "    background-color: var(--hover-bg-color);\n",
              "    box-shadow: 0 1px 2px rgba(60, 64, 67, 0.3), 0 1px 3px 1px rgba(60, 64, 67, 0.15);\n",
              "    fill: var(--button-hover-fill-color);\n",
              "  }\n",
              "\n",
              "  .colab-df-quickchart-complete:disabled,\n",
              "  .colab-df-quickchart-complete:disabled:hover {\n",
              "    background-color: var(--disabled-bg-color);\n",
              "    fill: var(--disabled-fill-color);\n",
              "    box-shadow: none;\n",
              "  }\n",
              "\n",
              "  .colab-df-spinner {\n",
              "    border: 2px solid var(--fill-color);\n",
              "    border-color: transparent;\n",
              "    border-bottom-color: var(--fill-color);\n",
              "    animation:\n",
              "      spin 1s steps(1) infinite;\n",
              "  }\n",
              "\n",
              "  @keyframes spin {\n",
              "    0% {\n",
              "      border-color: transparent;\n",
              "      border-bottom-color: var(--fill-color);\n",
              "      border-left-color: var(--fill-color);\n",
              "    }\n",
              "    20% {\n",
              "      border-color: transparent;\n",
              "      border-left-color: var(--fill-color);\n",
              "      border-top-color: var(--fill-color);\n",
              "    }\n",
              "    30% {\n",
              "      border-color: transparent;\n",
              "      border-left-color: var(--fill-color);\n",
              "      border-top-color: var(--fill-color);\n",
              "      border-right-color: var(--fill-color);\n",
              "    }\n",
              "    40% {\n",
              "      border-color: transparent;\n",
              "      border-right-color: var(--fill-color);\n",
              "      border-top-color: var(--fill-color);\n",
              "    }\n",
              "    60% {\n",
              "      border-color: transparent;\n",
              "      border-right-color: var(--fill-color);\n",
              "    }\n",
              "    80% {\n",
              "      border-color: transparent;\n",
              "      border-right-color: var(--fill-color);\n",
              "      border-bottom-color: var(--fill-color);\n",
              "    }\n",
              "    90% {\n",
              "      border-color: transparent;\n",
              "      border-bottom-color: var(--fill-color);\n",
              "    }\n",
              "  }\n",
              "</style>\n",
              "\n",
              "  <script>\n",
              "    async function quickchart(key) {\n",
              "      const quickchartButtonEl =\n",
              "        document.querySelector('#' + key + ' button');\n",
              "      quickchartButtonEl.disabled = true;  // To prevent multiple clicks.\n",
              "      quickchartButtonEl.classList.add('colab-df-spinner');\n",
              "      try {\n",
              "        const charts = await google.colab.kernel.invokeFunction(\n",
              "            'suggestCharts', [key], {});\n",
              "      } catch (error) {\n",
              "        console.error('Error during call to suggestCharts:', error);\n",
              "      }\n",
              "      quickchartButtonEl.classList.remove('colab-df-spinner');\n",
              "      quickchartButtonEl.classList.add('colab-df-quickchart-complete');\n",
              "    }\n",
              "    (() => {\n",
              "      let quickchartButtonEl =\n",
              "        document.querySelector('#df-bebc00c3-19d5-49c4-a420-5b9e0bfebc4a button');\n",
              "      quickchartButtonEl.style.display =\n",
              "        google.colab.kernel.accessAllowed ? 'block' : 'none';\n",
              "    })();\n",
              "  </script>\n",
              "</div>\n",
              "    </div>\n",
              "  </div>\n"
            ],
            "application/vnd.google.colaboratory.intrinsic+json": {
              "type": "dataframe",
              "variable_name": "df",
              "summary": "{\n  \"name\": \"df\",\n  \"rows\": 26,\n  \"fields\": [\n    {\n      \"column\": \"Fecha\",\n      \"properties\": {\n        \"dtype\": \"string\",\n        \"num_unique_values\": 26,\n        \"samples\": [\n          \"11/1\",\n          \"25/12\",\n          \"30/1\"\n        ],\n        \"semantic_type\": \"\",\n        \"description\": \"\"\n      }\n    },\n    {\n      \"column\": \"RIVAL\",\n      \"properties\": {\n        \"dtype\": \"category\",\n        \"num_unique_values\": 2,\n        \"samples\": [\n          \"vs\",\n          \"@\"\n        ],\n        \"semantic_type\": \"\",\n        \"description\": \"\"\n      }\n    },\n    {\n      \"column\": \"REB\",\n      \"properties\": {\n        \"dtype\": \"number\",\n        \"std\": 3,\n        \"min\": 3,\n        \"max\": 20,\n        \"num_unique_values\": 10,\n        \"samples\": [\n          3,\n          6\n        ],\n        \"semantic_type\": \"\",\n        \"description\": \"\"\n      }\n    },\n    {\n      \"column\": \"AST\",\n      \"properties\": {\n        \"dtype\": \"number\",\n        \"std\": 2,\n        \"min\": 4,\n        \"max\": 14,\n        \"num_unique_values\": 10,\n        \"samples\": [\n          14,\n          10\n        ],\n        \"semantic_type\": \"\",\n        \"description\": \"\"\n      }\n    },\n    {\n      \"column\": \"BLOQ\",\n      \"properties\": {\n        \"dtype\": \"number\",\n        \"std\": 0,\n        \"min\": 0,\n        \"max\": 2,\n        \"num_unique_values\": 3,\n        \"samples\": [\n          1,\n          0\n        ],\n        \"semantic_type\": \"\",\n        \"description\": \"\"\n      }\n    },\n    {\n      \"column\": \"PTS\",\n      \"properties\": {\n        \"dtype\": \"number\",\n        \"std\": 7,\n        \"min\": 10,\n        \"max\": 40,\n        \"num_unique_values\": 18,\n        \"samples\": [\n          20,\n          23\n        ],\n        \"semantic_type\": \"\",\n        \"description\": \"\"\n      }\n    },\n    {\n      \"column\": \"Local\",\n      \"properties\": {\n        \"dtype\": \"category\",\n        \"num_unique_values\": 3,\n        \"samples\": [\n          \"no\",\n          \"si\"\n        ],\n        \"semantic_type\": \"\",\n        \"description\": \"\"\n      }\n    }\n  ]\n}"
            }
          },
          "metadata": {},
          "execution_count": 1
        }
      ],
      "source": [
        "path='https://raw.githubusercontent.com/laloriosd/numero1/main/lalobron3.csv'\n",
        "import pandas as pd\n",
        "import numpy as np\n",
        "df= pd.read_csv(path)\n",
        "df.head(30)"
      ]
    },
    {
      "cell_type": "markdown",
      "source": [
        "##Descripción de la base de datos.\n",
        "####Esta base de datos contiene las estadísticas de 26 partidos del jugador de Los Angeles Lakers Lebron James, estos partidos fueron disputados contra diferentes equipos que forman parte de la NBA y las fechas de estos van desde el 2 de diciembre del año 2023 hasta el 30 de enero del año 2024.\n",
        "###Descripción de las variables\n",
        "####Las variables que tenemos en esta base de datos son las siguientes:\n",
        "####Fecha [Categórica]: Representa la fecha en la que el partido fue disputado.\n",
        "####Rival [Categórica]: Representa si el partido fue disputado en casa es decir en el Staples Center de Los Angeles Lakers o en otro estadio de cualquiera de los otros equipos que forman parte la NBA. En ese caso si la variable es \"@\" es de visita y si la variable dice \"vs\" significa que el partido fue en casa.\n",
        "####Reb [Numérica]: Son los rebotes que consiguió LeBron James durante cada partido.\n",
        "####Ast [Numérica]: Es la cantidad de robtes que consiguió LeBron James durante cada partido.\n",
        "####Bloq [Numérica]: Cantida de bloqueos que consiguió LeBron James durante cada partido.\n",
        "####Pts [Numérica]: Cantidad de puntos que consiguió LeBron James durante cada partido.\n",
        "####Local [Categórica]: Es muy parecida a la variable de rival pues representa si el partido fue disputado como local o como visitante \"si\" es que jugaron en el Staples Center de Los Angeles, en caso de que sea \"no\" es que jugaorn en otro estadio.\n",
        "\n",
        "\n"
      ],
      "metadata": {
        "id": "Eea3U_lXI1jn"
      }
    },
    {
      "cell_type": "markdown",
      "source": [
        "#Pregunta 1: ¿Cual es el promedio de puntos de LeBron James cuando juega en Los Angeles y cuando juega de visita durante estos partidos?"
      ],
      "metadata": {
        "id": "4lSj7B3VnFyv"
      }
    },
    {
      "cell_type": "code",
      "source": [
        "tabla_pivot = pd.pivot_table(df, values='PTS',index='RIVAL', aggfunc='mean')\n",
        "print(tabla_pivot)\n"
      ],
      "metadata": {
        "colab": {
          "base_uri": "https://localhost:8080/"
        },
        "id": "i8UJ9zsbnFIR",
        "outputId": "97a0173b-a037-4d8d-9cfc-dba9d7a0a502"
      },
      "execution_count": 8,
      "outputs": [
        {
          "output_type": "stream",
          "name": "stdout",
          "text": [
            "             PTS\n",
            "RIVAL           \n",
            "@      28.888889\n",
            "vs     22.764706\n"
          ]
        }
      ]
    },
    {
      "cell_type": "markdown",
      "source": [
        "####Cuando LeBron James juega de visita promedia 28.9 puntos mientras que cuando juega de local promedio 22.8 puntos, durante los partidos que están en la base de datos."
      ],
      "metadata": {
        "id": "3hkqa9n5oe7W"
      }
    },
    {
      "cell_type": "markdown",
      "source": [
        "#Pregunta 2: ¿Cual es el promedio de rebotes de LeBron James cuando juega en Los Angeles y cuando juega de visita durante estos partidos?"
      ],
      "metadata": {
        "id": "c3M8XA8xouy0"
      }
    },
    {
      "cell_type": "code",
      "source": [
        "tabla_pivot = pd.pivot_table(df, values='REB',index='RIVAL', aggfunc='mean')\n",
        "print(tabla_pivot)"
      ],
      "metadata": {
        "colab": {
          "base_uri": "https://localhost:8080/"
        },
        "id": "rfGbRghqo0lX",
        "outputId": "3b19ff59-d6e5-45ef-eed2-2c86ee36a286"
      },
      "execution_count": 9,
      "outputs": [
        {
          "output_type": "stream",
          "name": "stdout",
          "text": [
            "            REB\n",
            "RIVAL          \n",
            "@      8.333333\n",
            "vs     6.823529\n"
          ]
        }
      ]
    },
    {
      "cell_type": "markdown",
      "source": [
        "####Cuando LeBron James juega de visita promedia 8.3 rebotes mientras que cuando juega de local promedia 6.8 rebotes por partido durante los partidos que están en la base de datos."
      ],
      "metadata": {
        "id": "y9ZFyuiUo9R3"
      }
    },
    {
      "cell_type": "markdown",
      "source": [],
      "metadata": {
        "id": "Dm0SdM29txk8"
      }
    },
    {
      "cell_type": "markdown",
      "source": [
        "#Pregunta 3: ¿Cual es el promedio de asistencias de LeBron James cuando juega en Los Angeles y cuando juega de visita durante estos partidos?"
      ],
      "metadata": {
        "id": "3cHKflp-t2j4"
      }
    },
    {
      "cell_type": "code",
      "source": [
        "tabla_pivot = pd.pivot_table(df, values='AST',index='RIVAL', aggfunc='mean')\n",
        "print(tabla_pivot)"
      ],
      "metadata": {
        "colab": {
          "base_uri": "https://localhost:8080/"
        },
        "id": "UrKjr5M5o8wZ",
        "outputId": "a7bfa584-baa9-4446-d8b7-0964298e75ba"
      },
      "execution_count": 10,
      "outputs": [
        {
          "output_type": "stream",
          "name": "stdout",
          "text": [
            "            AST\n",
            "RIVAL          \n",
            "@      9.222222\n",
            "vs     8.235294\n"
          ]
        }
      ]
    },
    {
      "cell_type": "markdown",
      "source": [
        "####Cuando LeBron James juega de visita promedia 9.2 asistencias mientras que cuando juega de local promedia 8.2 por partido, esto durante los partidos que están en la base de datos."
      ],
      "metadata": {
        "id": "s40RoiT7urjL"
      }
    },
    {
      "cell_type": "markdown",
      "source": [
        "#Pregunta 4: ¿Cual es el promedio de bloqueos o tapas de LeBron James cuando juega en Los Angeles y cuando juega de visita durante estos partidos?"
      ],
      "metadata": {
        "id": "KxXHxZswvEZ3"
      }
    },
    {
      "cell_type": "code",
      "source": [
        "tabla_pivot = pd.pivot_table(df, values='BLOQ',index='RIVAL', aggfunc='mean')\n",
        "print(tabla_pivot)"
      ],
      "metadata": {
        "colab": {
          "base_uri": "https://localhost:8080/"
        },
        "id": "4diRMpSbvKB5",
        "outputId": "47fca6e0-7521-4eba-ee48-032e67852f47"
      },
      "execution_count": 11,
      "outputs": [
        {
          "output_type": "stream",
          "name": "stdout",
          "text": [
            "           BLOQ\n",
            "RIVAL          \n",
            "@      1.000000\n",
            "vs     0.117647\n"
          ]
        }
      ]
    },
    {
      "cell_type": "markdown",
      "source": [
        "####Cuando LeBron James juega de visita promedia 1 bloqueo mientras que cuando juega de local promedia 0.12 por partido, esto durante los partidos que están en la base de datos."
      ],
      "metadata": {
        "id": "6Jd6BnI3vR53"
      }
    },
    {
      "cell_type": "markdown",
      "source": [
        "#Pregunta 5: ¿Cuantos puntos hizo Lebron james en total durante estos partidos?"
      ],
      "metadata": {
        "id": "Cb40u7v6vcR_"
      }
    },
    {
      "cell_type": "code",
      "source": [
        "suma_totalpts= df['PTS'].sum()\n",
        "print(suma_totalpts)"
      ],
      "metadata": {
        "colab": {
          "base_uri": "https://localhost:8080/"
        },
        "id": "omfD2a9ZvxBV",
        "outputId": "b66cd1f0-5831-4db4-ede0-48a23f0ef6f9"
      },
      "execution_count": 12,
      "outputs": [
        {
          "output_type": "stream",
          "name": "stdout",
          "text": [
            "647\n"
          ]
        }
      ]
    },
    {
      "cell_type": "markdown",
      "source": [
        "####Durante todos estos partidos LeBron James hizo un total de 647 puntos."
      ],
      "metadata": {
        "id": "MBM-0QjHxLsN"
      }
    },
    {
      "cell_type": "markdown",
      "source": [
        "#Pregunta 6: ¿Cuantos rebotes hizo Lebron james en total durante estos partidos?"
      ],
      "metadata": {
        "id": "kl8AIy9DxOlH"
      }
    },
    {
      "cell_type": "code",
      "source": [
        "suma_totalreb= df['REB'].sum()\n",
        "print(suma_totalreb)"
      ],
      "metadata": {
        "colab": {
          "base_uri": "https://localhost:8080/"
        },
        "id": "f7_lhSkDxVNx",
        "outputId": "c4ce2a2f-703d-4de1-9f1c-c1b876b24d43"
      },
      "execution_count": 13,
      "outputs": [
        {
          "output_type": "stream",
          "name": "stdout",
          "text": [
            "191\n"
          ]
        }
      ]
    },
    {
      "cell_type": "markdown",
      "source": [
        "####La cantidad de rebotes que consiguió LeBron James durante estos partidos es de 191."
      ],
      "metadata": {
        "id": "g6KIeL2IxZgn"
      }
    },
    {
      "cell_type": "markdown",
      "source": [
        "#Pregunta 7: ¿Cuantas asistencias hizo Lebron james en total durante estos partidos?"
      ],
      "metadata": {
        "id": "33HZHHHTxw-c"
      }
    },
    {
      "cell_type": "code",
      "source": [
        "suma_totalast= df['AST'].sum()\n",
        "print(suma_totalast)"
      ],
      "metadata": {
        "colab": {
          "base_uri": "https://localhost:8080/"
        },
        "id": "TmQE9wl8x7WI",
        "outputId": "4bcab2b3-0afa-44ce-a5de-d49b917ff734"
      },
      "execution_count": 14,
      "outputs": [
        {
          "output_type": "stream",
          "name": "stdout",
          "text": [
            "223\n"
          ]
        }
      ]
    },
    {
      "cell_type": "markdown",
      "source": [
        "####La cantidad de asistencias que hizo LeBron James durante este lapso fueron 223."
      ],
      "metadata": {
        "id": "KTKSxpwryL8v"
      }
    },
    {
      "cell_type": "markdown",
      "source": [
        "#Pregunta 8:¿Cuantos bloqueos hizo LeBron James en total durante estos partidos?"
      ],
      "metadata": {
        "id": "KtRmcppAyZ7A"
      }
    },
    {
      "cell_type": "code",
      "source": [
        "suma_totalbloq= df['BLOQ'].sum()\n",
        "print(suma_totalbloq)"
      ],
      "metadata": {
        "colab": {
          "base_uri": "https://localhost:8080/"
        },
        "id": "v-vMh03hynHz",
        "outputId": "5d2ff64c-44f4-4b36-fe89-ce47be3c1e64"
      },
      "execution_count": 15,
      "outputs": [
        {
          "output_type": "stream",
          "name": "stdout",
          "text": [
            "11\n"
          ]
        }
      ]
    },
    {
      "cell_type": "markdown",
      "source": [
        "####La cantidad de bloqueos que hizo LeBron James en total es de 11 durante estos partidos."
      ],
      "metadata": {
        "id": "JHwqnPvRysc8"
      }
    },
    {
      "cell_type": "markdown",
      "source": [
        "#Pregunta 9: ¿Como se ven los puntos de LeBron James en una grafica de líneas."
      ],
      "metadata": {
        "id": "unVu4XkBzhbW"
      }
    },
    {
      "source": [
        "# @title PTS\n",
        "\n",
        "from matplotlib import pyplot as plt\n",
        "df['PTS'].plot(kind='line', figsize=(8, 4), title='PTS')\n",
        "plt.gca().spines[['top', 'right']].set_visible(False)"
      ],
      "cell_type": "code",
      "execution_count": 16,
      "outputs": [
        {
          "output_type": "display_data",
          "data": {
            "text/plain": [
              "<Figure size 800x400 with 1 Axes>"
            ],
            "image/png": "[encoded data removed]"
          },
          "metadata": {}
        }
      ],
      "metadata": {
        "colab": {
          "base_uri": "https://localhost:8080/",
          "height": 391
        },
        "id": "SWZtglH7zdtH",
        "outputId": "f0901244-8cd7-4773-f189-04418d0e62aa"
      }
    },
    {
      "cell_type": "markdown",
      "source": [
        "####Podemos ver en esta gráfica que el minimo de puntos de LeBron James es de 10 mientras que el máximo es de 40."
      ],
      "metadata": {
        "id": "z6C6Xo_oz5R4"
      }
    },
    {
      "cell_type": "markdown",
      "source": [
        "#Pregunta 10: ¿Como se ven las asistencias de LeBron James en una grafica de líneas?"
      ],
      "metadata": {
        "id": "eL9MHfzt0YVI"
      }
    },
    {
      "source": [
        "# @title AST\n",
        "\n",
        "from matplotlib import pyplot as plt\n",
        "df['AST'].plot(kind='line', figsize=(8, 4), title='AST')\n",
        "plt.gca().spines[['top', 'right']].set_visible(False)"
      ],
      "cell_type": "code",
      "execution_count": 17,
      "outputs": [
        {
          "output_type": "display_data",
          "data": {
            "text/plain": [
              "<Figure size 800x400 with 1 Axes>"
            ],
            "image/png": "[encoded data removed]"
          },
          "metadata": {}
        }
      ],
      "metadata": {
        "cellView": "form",
        "colab": {
          "base_uri": "https://localhost:8080/",
          "height": 391
        },
        "id": "WCeBy3SD0TNk",
        "outputId": "c1713b4b-7d3b-4944-ac6a-05ed14bc4b8b"
      }
    },
    {
      "cell_type": "markdown",
      "source": [
        "####Podemos ver que el minimo de asistecnias de LeBron James es de 4 y el máximo es de 14 durante estos partidos."
      ],
      "metadata": {
        "id": "PAlempa30nSo"
      }
    }
  ]
}